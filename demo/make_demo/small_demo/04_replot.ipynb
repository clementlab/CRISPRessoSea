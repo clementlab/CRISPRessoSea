{
 "cells": [
  {
   "cell_type": "code",
   "execution_count": 1,
   "id": "4d2e7123",
   "metadata": {},
   "outputs": [],
   "source": [
    "import pandas as pd"
   ]
  },
  {
   "cell_type": "code",
   "execution_count": 2,
   "id": "eccc58f1",
   "metadata": {},
   "outputs": [
    {
     "data": {
      "application/vnd.microsoft.datawrangler.viewer.v0+json": {
       "columns": [
        {
         "name": "index",
         "rawType": "int64",
         "type": "integer"
        },
        {
         "name": "Name",
         "rawType": "object",
         "type": "string"
        },
        {
         "name": "r1",
         "rawType": "object",
         "type": "string"
        }
       ],
       "ref": "4d7ee11e-8fec-41cb-9585-6c1d75771000",
       "rows": [
        [
         "0",
         "Treated_1",
         "Treated_1.fastq.gz"
        ],
        [
         "1",
         "Treated_2",
         "Treated_2.fastq.gz"
        ],
        [
         "2",
         "Treated_3",
         "Treated_3.fastq.gz"
        ],
        [
         "3",
         "Control_1",
         "Control_1.fastq.gz"
        ],
        [
         "4",
         "Control_2",
         "Control_2.fastq.gz"
        ],
        [
         "5",
         "Control_3",
         "Control_3.fastq.gz"
        ]
       ],
       "shape": {
        "columns": 2,
        "rows": 6
       }
      },
      "text/html": [
       "<div>\n",
       "<style scoped>\n",
       "    .dataframe tbody tr th:only-of-type {\n",
       "        vertical-align: middle;\n",
       "    }\n",
       "\n",
       "    .dataframe tbody tr th {\n",
       "        vertical-align: top;\n",
       "    }\n",
       "\n",
       "    .dataframe thead th {\n",
       "        text-align: right;\n",
       "    }\n",
       "</style>\n",
       "<table border=\"1\" class=\"dataframe\">\n",
       "  <thead>\n",
       "    <tr style=\"text-align: right;\">\n",
       "      <th></th>\n",
       "      <th>Name</th>\n",
       "      <th>r1</th>\n",
       "    </tr>\n",
       "  </thead>\n",
       "  <tbody>\n",
       "    <tr>\n",
       "      <th>0</th>\n",
       "      <td>Treated_1</td>\n",
       "      <td>Treated_1.fastq.gz</td>\n",
       "    </tr>\n",
       "    <tr>\n",
       "      <th>1</th>\n",
       "      <td>Treated_2</td>\n",
       "      <td>Treated_2.fastq.gz</td>\n",
       "    </tr>\n",
       "    <tr>\n",
       "      <th>2</th>\n",
       "      <td>Treated_3</td>\n",
       "      <td>Treated_3.fastq.gz</td>\n",
       "    </tr>\n",
       "    <tr>\n",
       "      <th>3</th>\n",
       "      <td>Control_1</td>\n",
       "      <td>Control_1.fastq.gz</td>\n",
       "    </tr>\n",
       "    <tr>\n",
       "      <th>4</th>\n",
       "      <td>Control_2</td>\n",
       "      <td>Control_2.fastq.gz</td>\n",
       "    </tr>\n",
       "    <tr>\n",
       "      <th>5</th>\n",
       "      <td>Control_3</td>\n",
       "      <td>Control_3.fastq.gz</td>\n",
       "    </tr>\n",
       "  </tbody>\n",
       "</table>\n",
       "</div>"
      ],
      "text/plain": [
       "        Name                  r1\n",
       "0  Treated_1  Treated_1.fastq.gz\n",
       "1  Treated_2  Treated_2.fastq.gz\n",
       "2  Treated_3  Treated_3.fastq.gz\n",
       "3  Control_1  Control_1.fastq.gz\n",
       "4  Control_2  Control_2.fastq.gz\n",
       "5  Control_3  Control_3.fastq.gz"
      ]
     },
     "execution_count": 2,
     "metadata": {},
     "output_type": "execute_result"
    }
   ],
   "source": [
    "## Read in the original samples file\n",
    "samples_file = \"samples.demo.txt\"\n",
    "samples = pd.read_csv(samples_file, sep=\"\\t\")\n",
    "samples"
   ]
  },
  {
   "cell_type": "code",
   "execution_count": 3,
   "id": "e3afed63",
   "metadata": {},
   "outputs": [
    {
     "data": {
      "application/vnd.microsoft.datawrangler.viewer.v0+json": {
       "columns": [
        {
         "name": "index",
         "rawType": "int64",
         "type": "integer"
        },
        {
         "name": "Name",
         "rawType": "object",
         "type": "string"
        },
        {
         "name": "r1",
         "rawType": "object",
         "type": "string"
        },
        {
         "name": "group",
         "rawType": "object",
         "type": "string"
        }
       ],
       "ref": "644998a9-f7c5-4c22-be75-0d7aca6cbd53",
       "rows": [
        [
         "0",
         "Treated_1",
         "Treated_1.fastq.gz",
         "Treated"
        ],
        [
         "1",
         "Treated_2",
         "Treated_2.fastq.gz",
         "Treated"
        ],
        [
         "2",
         "Treated_3",
         "Treated_3.fastq.gz",
         "Treated"
        ],
        [
         "3",
         "Control_1",
         "Control_1.fastq.gz",
         "Control"
        ],
        [
         "4",
         "Control_2",
         "Control_2.fastq.gz",
         "Control"
        ],
        [
         "5",
         "Control_3",
         "Control_3.fastq.gz",
         "Control"
        ]
       ],
       "shape": {
        "columns": 3,
        "rows": 6
       }
      },
      "text/html": [
       "<div>\n",
       "<style scoped>\n",
       "    .dataframe tbody tr th:only-of-type {\n",
       "        vertical-align: middle;\n",
       "    }\n",
       "\n",
       "    .dataframe tbody tr th {\n",
       "        vertical-align: top;\n",
       "    }\n",
       "\n",
       "    .dataframe thead th {\n",
       "        text-align: right;\n",
       "    }\n",
       "</style>\n",
       "<table border=\"1\" class=\"dataframe\">\n",
       "  <thead>\n",
       "    <tr style=\"text-align: right;\">\n",
       "      <th></th>\n",
       "      <th>Name</th>\n",
       "      <th>r1</th>\n",
       "      <th>group</th>\n",
       "    </tr>\n",
       "  </thead>\n",
       "  <tbody>\n",
       "    <tr>\n",
       "      <th>0</th>\n",
       "      <td>Treated_1</td>\n",
       "      <td>Treated_1.fastq.gz</td>\n",
       "      <td>Treated</td>\n",
       "    </tr>\n",
       "    <tr>\n",
       "      <th>1</th>\n",
       "      <td>Treated_2</td>\n",
       "      <td>Treated_2.fastq.gz</td>\n",
       "      <td>Treated</td>\n",
       "    </tr>\n",
       "    <tr>\n",
       "      <th>2</th>\n",
       "      <td>Treated_3</td>\n",
       "      <td>Treated_3.fastq.gz</td>\n",
       "      <td>Treated</td>\n",
       "    </tr>\n",
       "    <tr>\n",
       "      <th>3</th>\n",
       "      <td>Control_1</td>\n",
       "      <td>Control_1.fastq.gz</td>\n",
       "      <td>Control</td>\n",
       "    </tr>\n",
       "    <tr>\n",
       "      <th>4</th>\n",
       "      <td>Control_2</td>\n",
       "      <td>Control_2.fastq.gz</td>\n",
       "      <td>Control</td>\n",
       "    </tr>\n",
       "    <tr>\n",
       "      <th>5</th>\n",
       "      <td>Control_3</td>\n",
       "      <td>Control_3.fastq.gz</td>\n",
       "      <td>Control</td>\n",
       "    </tr>\n",
       "  </tbody>\n",
       "</table>\n",
       "</div>"
      ],
      "text/plain": [
       "        Name                  r1    group\n",
       "0  Treated_1  Treated_1.fastq.gz  Treated\n",
       "1  Treated_2  Treated_2.fastq.gz  Treated\n",
       "2  Treated_3  Treated_3.fastq.gz  Treated\n",
       "3  Control_1  Control_1.fastq.gz  Control\n",
       "4  Control_2  Control_2.fastq.gz  Control\n",
       "5  Control_3  Control_3.fastq.gz  Control"
      ]
     },
     "execution_count": 3,
     "metadata": {},
     "output_type": "execute_result"
    }
   ],
   "source": [
    "## First, let's add groups to the samples\n",
    "samples[\"group\"] = samples[\"Name\"].str.split(\"_\").str[0]\n",
    "samples\n"
   ]
  },
  {
   "cell_type": "code",
   "execution_count": 4,
   "id": "457c87d6",
   "metadata": {},
   "outputs": [],
   "source": [
    "# Write the file\n",
    "samples.to_csv(\"04_replot.ipynb.samples.txt\", sep=\"\\t\", index=False)"
   ]
  },
  {
   "cell_type": "code",
   "execution_count": 5,
   "id": "3a3d089e",
   "metadata": {},
   "outputs": [
    {
     "data": {
      "application/vnd.microsoft.datawrangler.viewer.v0+json": {
       "columns": [
        {
         "name": "index",
         "rawType": "int64",
         "type": "integer"
        },
        {
         "name": "target_id",
         "rawType": "object",
         "type": "string"
        },
        {
         "name": "target_name",
         "rawType": "object",
         "type": "string"
        },
        {
         "name": "sort_index",
         "rawType": "int64",
         "type": "integer"
        },
        {
         "name": "target_chr",
         "rawType": "object",
         "type": "string"
        },
        {
         "name": "target_pos",
         "rawType": "int64",
         "type": "integer"
        },
        {
         "name": "target_seq_no_gaps_with_pam",
         "rawType": "object",
         "type": "string"
        },
        {
         "name": "target_seq_no_gaps",
         "rawType": "object",
         "type": "string"
        },
        {
         "name": "target_seq_with_gaps",
         "rawType": "object",
         "type": "string"
        },
        {
         "name": "target_pam",
         "rawType": "object",
         "type": "string"
        },
        {
         "name": "ontarget_name",
         "rawType": "object",
         "type": "string"
        },
        {
         "name": "ontarget_sequence",
         "rawType": "object",
         "type": "string"
        },
        {
         "name": "matched_region_count",
         "rawType": "int64",
         "type": "integer"
        },
        {
         "name": "matched_region",
         "rawType": "object",
         "type": "string"
        },
        {
         "name": "matched_region_id",
         "rawType": "object",
         "type": "string"
        },
        {
         "name": "region_anno",
         "rawType": "float64",
         "type": "float"
        },
        {
         "name": "Treated_1_pooled_result_name",
         "rawType": "object",
         "type": "string"
        },
        {
         "name": "Treated_1_highest_a_g_pct",
         "rawType": "float64",
         "type": "float"
        },
        {
         "name": "Treated_1_highest_c_t_pct",
         "rawType": "float64",
         "type": "float"
        },
        {
         "name": "Treated_1_highest_indel_pct",
         "rawType": "float64",
         "type": "float"
        },
        {
         "name": "Treated_1_tot_reads",
         "rawType": "float64",
         "type": "float"
        },
        {
         "name": "Treated_2_pooled_result_name",
         "rawType": "object",
         "type": "string"
        },
        {
         "name": "Treated_2_highest_a_g_pct",
         "rawType": "float64",
         "type": "float"
        },
        {
         "name": "Treated_2_highest_c_t_pct",
         "rawType": "float64",
         "type": "float"
        },
        {
         "name": "Treated_2_highest_indel_pct",
         "rawType": "float64",
         "type": "float"
        },
        {
         "name": "Treated_2_tot_reads",
         "rawType": "float64",
         "type": "float"
        },
        {
         "name": "Treated_3_pooled_result_name",
         "rawType": "object",
         "type": "string"
        },
        {
         "name": "Treated_3_highest_a_g_pct",
         "rawType": "float64",
         "type": "float"
        },
        {
         "name": "Treated_3_highest_c_t_pct",
         "rawType": "float64",
         "type": "float"
        },
        {
         "name": "Treated_3_highest_indel_pct",
         "rawType": "float64",
         "type": "float"
        },
        {
         "name": "Treated_3_tot_reads",
         "rawType": "float64",
         "type": "float"
        },
        {
         "name": "Control_1_pooled_result_name",
         "rawType": "object",
         "type": "string"
        },
        {
         "name": "Control_1_highest_a_g_pct",
         "rawType": "float64",
         "type": "float"
        },
        {
         "name": "Control_1_highest_c_t_pct",
         "rawType": "float64",
         "type": "float"
        },
        {
         "name": "Control_1_highest_indel_pct",
         "rawType": "float64",
         "type": "float"
        },
        {
         "name": "Control_1_tot_reads",
         "rawType": "float64",
         "type": "float"
        },
        {
         "name": "Control_2_pooled_result_name",
         "rawType": "object",
         "type": "string"
        },
        {
         "name": "Control_2_highest_a_g_pct",
         "rawType": "float64",
         "type": "float"
        },
        {
         "name": "Control_2_highest_c_t_pct",
         "rawType": "float64",
         "type": "float"
        },
        {
         "name": "Control_2_highest_indel_pct",
         "rawType": "float64",
         "type": "float"
        },
        {
         "name": "Control_2_tot_reads",
         "rawType": "float64",
         "type": "float"
        },
        {
         "name": "Control_3_pooled_result_name",
         "rawType": "object",
         "type": "string"
        },
        {
         "name": "Control_3_highest_a_g_pct",
         "rawType": "float64",
         "type": "float"
        },
        {
         "name": "Control_3_highest_c_t_pct",
         "rawType": "float64",
         "type": "float"
        },
        {
         "name": "Control_3_highest_indel_pct",
         "rawType": "float64",
         "type": "float"
        },
        {
         "name": "Control_3_tot_reads",
         "rawType": "float64",
         "type": "float"
        }
       ],
       "ref": "4a3e7921-a69b-4c25-b15d-dc9e37b1505e",
       "rows": [
        [
         "0",
         "0_CTLA4_site9_ON",
         "CTLA4_site9_ON_CTLA4_site0_500",
         "0",
         "CTLA4_site0",
         "500",
         "GGACTGAGGGCCATGGACACGGG",
         "GGACTGAGGGCCATGGACAC",
         "GGACTGAGGGCCATGGACAC",
         "GGG",
         "CTLA4_site9",
         "GGACTGAGGGCCATGGACAC",
         "1",
         "CTLA4_site0_425_675",
         "CTLA4_site0_425_675_CTLA4_site9_ON_CTLA4_site0_500",
         null,
         "CTLA4_site0_425_675_CTLA4_site9_ON_CTLA4_site0_500",
         "1.0416666666666663",
         "0.0",
         "65.625",
         "96.0",
         "CTLA4_site0_425_675_CTLA4_site9_ON_CTLA4_site0_500",
         "1.1494252873563218",
         "0.0",
         "79.3103448275862",
         "87.0",
         "CTLA4_site0_425_675_CTLA4_site9_ON_CTLA4_site0_500",
         "0.0",
         "0.0",
         "70.65217391304348",
         "92.0",
         "CTLA4_site0_425_675_CTLA4_site9_ON_CTLA4_site0_500",
         "0.0",
         "0.0",
         "0.0",
         "149.0",
         "CTLA4_site0_425_675_CTLA4_site9_ON_CTLA4_site0_500",
         "0.0",
         "0.0",
         "0.0",
         "117.0",
         "CTLA4_site0_425_675_CTLA4_site9_ON_CTLA4_site0_500",
         "0.0",
         "0.8333333333333334",
         "0.0",
         "120.0"
        ],
        [
         "1",
         "1_CTLA4_site9_OB2",
         "CTLA4_site9_OB2_CTLA4_site1_500",
         "1",
         "CTLA4_site1",
         "500",
         "GGACaGAGGGCCcTGGACACAGG",
         "GGACaGAGGGCCcTGGACAC",
         "GGACaGAGGGCCcTGGACAC",
         "AGG",
         "CTLA4_site9",
         "GGACTGAGGGCCATGGACAC",
         "1",
         "CTLA4_site1_358_599",
         "CTLA4_site1_358_599_CTLA4_site9_OB2_CTLA4_site1_500",
         null,
         "CTLA4_site1_358_599_CTLA4_site9_OB2_CTLA4_site1_500",
         "0.0",
         "0.0",
         "0.0",
         "27.0",
         "CTLA4_site1_358_599_CTLA4_site9_OB2_CTLA4_site1_500",
         "0.0",
         "0.0",
         "0.0",
         "32.0",
         "CTLA4_site1_358_599_CTLA4_site9_OB2_CTLA4_site1_500",
         "0.0",
         "0.0",
         "2.380952380952381",
         "42.0",
         "CTLA4_site1_358_599_CTLA4_site9_OB2_CTLA4_site1_500",
         "0.0",
         "0.0",
         "0.0",
         "35.0",
         "CTLA4_site1_358_599_CTLA4_site9_OB2_CTLA4_site1_500",
         "0.0",
         "0.0",
         "0.0",
         "34.0",
         "CTLA4_site1_358_599_CTLA4_site9_OB2_CTLA4_site1_500",
         "0.0",
         "0.0",
         "0.0",
         "32.0"
        ],
        [
         "2",
         "2_CTLA4_site9_OB2",
         "CTLA4_site9_OB2_CTLA4_site2_500",
         "2",
         "CTLA4_site2",
         "500",
         "GGAaTGAGGcCCATGGACACTGG",
         "GGAaTGAGGcCCATGGACAC",
         "GGAaTGAGGcCCATGGACAC",
         "TGG",
         "CTLA4_site9",
         "GGACTGAGGGCCATGGACAC",
         "1",
         "CTLA4_site2_374_614",
         "CTLA4_site2_374_614_CTLA4_site9_OB2_CTLA4_site2_500",
         null,
         "CTLA4_site2_374_614_CTLA4_site9_OB2_CTLA4_site2_500",
         "0.0",
         "0.0",
         "14.864864864864863",
         "148.0",
         "CTLA4_site2_374_614_CTLA4_site9_OB2_CTLA4_site2_500",
         "0.0",
         "0.8264462809917356",
         "18.181818181818183",
         "121.0",
         "CTLA4_site2_374_614_CTLA4_site9_OB2_CTLA4_site2_500",
         "0.7092198581560284",
         "0.0",
         "19.8581560283688",
         "141.0",
         "CTLA4_site2_374_614_CTLA4_site9_OB2_CTLA4_site2_500",
         "0.6535947712418301",
         "0.0",
         "0.0",
         "153.0",
         "CTLA4_site2_374_614_CTLA4_site9_OB2_CTLA4_site2_500",
         "0.0",
         "0.0",
         "0.0",
         "149.0",
         "CTLA4_site2_374_614_CTLA4_site9_OB2_CTLA4_site2_500",
         "0.0",
         "0.0",
         "0.0",
         "145.0"
        ],
        [
         "3",
         "3_CTLA4_site9_OB2",
         "CTLA4_site9_OB2_CTLA4_site3_500",
         "3",
         "CTLA4_site3",
         "500",
         "GGACTGgGGGCCtTGGACACAGG",
         "GGACTGgGGGCCtTGGACAC",
         "GGACTGgGGGCCtTGGACAC",
         "AGG",
         "CTLA4_site9",
         "GGACTGAGGGCCATGGACAC",
         "1",
         "CTLA4_site3_425_675",
         "CTLA4_site3_425_675_CTLA4_site9_OB2_CTLA4_site3_500",
         null,
         "CTLA4_site3_425_675_CTLA4_site9_OB2_CTLA4_site3_500",
         "0.0",
         "0.0",
         "1.2987012987012987",
         "77.0",
         "CTLA4_site3_425_675_CTLA4_site9_OB2_CTLA4_site3_500",
         "0.0",
         "0.0",
         "1.1363636363636365",
         "88.0",
         "CTLA4_site3_425_675_CTLA4_site9_OB2_CTLA4_site3_500",
         "0.8",
         "0.0",
         "2.4",
         "125.0",
         "CTLA4_site3_425_675_CTLA4_site9_OB2_CTLA4_site3_500",
         "0.0",
         "0.9708737864077668",
         "0.0",
         "103.0",
         "CTLA4_site3_425_675_CTLA4_site9_OB2_CTLA4_site3_500",
         "0.0",
         "0.0",
         "0.0",
         "81.0",
         "CTLA4_site3_425_675_CTLA4_site9_OB2_CTLA4_site3_500",
         "1.098901098901099",
         "0.0",
         "0.0",
         "91.0"
        ]
       ],
       "shape": {
        "columns": 45,
        "rows": 4
       }
      },
      "text/html": [
       "<div>\n",
       "<style scoped>\n",
       "    .dataframe tbody tr th:only-of-type {\n",
       "        vertical-align: middle;\n",
       "    }\n",
       "\n",
       "    .dataframe tbody tr th {\n",
       "        vertical-align: top;\n",
       "    }\n",
       "\n",
       "    .dataframe thead th {\n",
       "        text-align: right;\n",
       "    }\n",
       "</style>\n",
       "<table border=\"1\" class=\"dataframe\">\n",
       "  <thead>\n",
       "    <tr style=\"text-align: right;\">\n",
       "      <th></th>\n",
       "      <th>target_id</th>\n",
       "      <th>target_name</th>\n",
       "      <th>sort_index</th>\n",
       "      <th>target_chr</th>\n",
       "      <th>target_pos</th>\n",
       "      <th>target_seq_no_gaps_with_pam</th>\n",
       "      <th>target_seq_no_gaps</th>\n",
       "      <th>target_seq_with_gaps</th>\n",
       "      <th>target_pam</th>\n",
       "      <th>ontarget_name</th>\n",
       "      <th>...</th>\n",
       "      <th>Control_2_pooled_result_name</th>\n",
       "      <th>Control_2_highest_a_g_pct</th>\n",
       "      <th>Control_2_highest_c_t_pct</th>\n",
       "      <th>Control_2_highest_indel_pct</th>\n",
       "      <th>Control_2_tot_reads</th>\n",
       "      <th>Control_3_pooled_result_name</th>\n",
       "      <th>Control_3_highest_a_g_pct</th>\n",
       "      <th>Control_3_highest_c_t_pct</th>\n",
       "      <th>Control_3_highest_indel_pct</th>\n",
       "      <th>Control_3_tot_reads</th>\n",
       "    </tr>\n",
       "  </thead>\n",
       "  <tbody>\n",
       "    <tr>\n",
       "      <th>0</th>\n",
       "      <td>0_CTLA4_site9_ON</td>\n",
       "      <td>CTLA4_site9_ON_CTLA4_site0_500</td>\n",
       "      <td>0</td>\n",
       "      <td>CTLA4_site0</td>\n",
       "      <td>500</td>\n",
       "      <td>GGACTGAGGGCCATGGACACGGG</td>\n",
       "      <td>GGACTGAGGGCCATGGACAC</td>\n",
       "      <td>GGACTGAGGGCCATGGACAC</td>\n",
       "      <td>GGG</td>\n",
       "      <td>CTLA4_site9</td>\n",
       "      <td>...</td>\n",
       "      <td>CTLA4_site0_425_675_CTLA4_site9_ON_CTLA4_site0...</td>\n",
       "      <td>0.0</td>\n",
       "      <td>0.0</td>\n",
       "      <td>0.0</td>\n",
       "      <td>117.0</td>\n",
       "      <td>CTLA4_site0_425_675_CTLA4_site9_ON_CTLA4_site0...</td>\n",
       "      <td>0.000000</td>\n",
       "      <td>0.833333</td>\n",
       "      <td>0.0</td>\n",
       "      <td>120.0</td>\n",
       "    </tr>\n",
       "    <tr>\n",
       "      <th>1</th>\n",
       "      <td>1_CTLA4_site9_OB2</td>\n",
       "      <td>CTLA4_site9_OB2_CTLA4_site1_500</td>\n",
       "      <td>1</td>\n",
       "      <td>CTLA4_site1</td>\n",
       "      <td>500</td>\n",
       "      <td>GGACaGAGGGCCcTGGACACAGG</td>\n",
       "      <td>GGACaGAGGGCCcTGGACAC</td>\n",
       "      <td>GGACaGAGGGCCcTGGACAC</td>\n",
       "      <td>AGG</td>\n",
       "      <td>CTLA4_site9</td>\n",
       "      <td>...</td>\n",
       "      <td>CTLA4_site1_358_599_CTLA4_site9_OB2_CTLA4_site...</td>\n",
       "      <td>0.0</td>\n",
       "      <td>0.0</td>\n",
       "      <td>0.0</td>\n",
       "      <td>34.0</td>\n",
       "      <td>CTLA4_site1_358_599_CTLA4_site9_OB2_CTLA4_site...</td>\n",
       "      <td>0.000000</td>\n",
       "      <td>0.000000</td>\n",
       "      <td>0.0</td>\n",
       "      <td>32.0</td>\n",
       "    </tr>\n",
       "    <tr>\n",
       "      <th>2</th>\n",
       "      <td>2_CTLA4_site9_OB2</td>\n",
       "      <td>CTLA4_site9_OB2_CTLA4_site2_500</td>\n",
       "      <td>2</td>\n",
       "      <td>CTLA4_site2</td>\n",
       "      <td>500</td>\n",
       "      <td>GGAaTGAGGcCCATGGACACTGG</td>\n",
       "      <td>GGAaTGAGGcCCATGGACAC</td>\n",
       "      <td>GGAaTGAGGcCCATGGACAC</td>\n",
       "      <td>TGG</td>\n",
       "      <td>CTLA4_site9</td>\n",
       "      <td>...</td>\n",
       "      <td>CTLA4_site2_374_614_CTLA4_site9_OB2_CTLA4_site...</td>\n",
       "      <td>0.0</td>\n",
       "      <td>0.0</td>\n",
       "      <td>0.0</td>\n",
       "      <td>149.0</td>\n",
       "      <td>CTLA4_site2_374_614_CTLA4_site9_OB2_CTLA4_site...</td>\n",
       "      <td>0.000000</td>\n",
       "      <td>0.000000</td>\n",
       "      <td>0.0</td>\n",
       "      <td>145.0</td>\n",
       "    </tr>\n",
       "    <tr>\n",
       "      <th>3</th>\n",
       "      <td>3_CTLA4_site9_OB2</td>\n",
       "      <td>CTLA4_site9_OB2_CTLA4_site3_500</td>\n",
       "      <td>3</td>\n",
       "      <td>CTLA4_site3</td>\n",
       "      <td>500</td>\n",
       "      <td>GGACTGgGGGCCtTGGACACAGG</td>\n",
       "      <td>GGACTGgGGGCCtTGGACAC</td>\n",
       "      <td>GGACTGgGGGCCtTGGACAC</td>\n",
       "      <td>AGG</td>\n",
       "      <td>CTLA4_site9</td>\n",
       "      <td>...</td>\n",
       "      <td>CTLA4_site3_425_675_CTLA4_site9_OB2_CTLA4_site...</td>\n",
       "      <td>0.0</td>\n",
       "      <td>0.0</td>\n",
       "      <td>0.0</td>\n",
       "      <td>81.0</td>\n",
       "      <td>CTLA4_site3_425_675_CTLA4_site9_OB2_CTLA4_site...</td>\n",
       "      <td>1.098901</td>\n",
       "      <td>0.000000</td>\n",
       "      <td>0.0</td>\n",
       "      <td>91.0</td>\n",
       "    </tr>\n",
       "  </tbody>\n",
       "</table>\n",
       "<p>4 rows × 45 columns</p>\n",
       "</div>"
      ],
      "text/plain": [
       "           target_id                      target_name  sort_index  \\\n",
       "0   0_CTLA4_site9_ON   CTLA4_site9_ON_CTLA4_site0_500           0   \n",
       "1  1_CTLA4_site9_OB2  CTLA4_site9_OB2_CTLA4_site1_500           1   \n",
       "2  2_CTLA4_site9_OB2  CTLA4_site9_OB2_CTLA4_site2_500           2   \n",
       "3  3_CTLA4_site9_OB2  CTLA4_site9_OB2_CTLA4_site3_500           3   \n",
       "\n",
       "    target_chr  target_pos target_seq_no_gaps_with_pam    target_seq_no_gaps  \\\n",
       "0  CTLA4_site0         500     GGACTGAGGGCCATGGACACGGG  GGACTGAGGGCCATGGACAC   \n",
       "1  CTLA4_site1         500     GGACaGAGGGCCcTGGACACAGG  GGACaGAGGGCCcTGGACAC   \n",
       "2  CTLA4_site2         500     GGAaTGAGGcCCATGGACACTGG  GGAaTGAGGcCCATGGACAC   \n",
       "3  CTLA4_site3         500     GGACTGgGGGCCtTGGACACAGG  GGACTGgGGGCCtTGGACAC   \n",
       "\n",
       "   target_seq_with_gaps target_pam ontarget_name  ...  \\\n",
       "0  GGACTGAGGGCCATGGACAC        GGG   CTLA4_site9  ...   \n",
       "1  GGACaGAGGGCCcTGGACAC        AGG   CTLA4_site9  ...   \n",
       "2  GGAaTGAGGcCCATGGACAC        TGG   CTLA4_site9  ...   \n",
       "3  GGACTGgGGGCCtTGGACAC        AGG   CTLA4_site9  ...   \n",
       "\n",
       "                        Control_2_pooled_result_name  \\\n",
       "0  CTLA4_site0_425_675_CTLA4_site9_ON_CTLA4_site0...   \n",
       "1  CTLA4_site1_358_599_CTLA4_site9_OB2_CTLA4_site...   \n",
       "2  CTLA4_site2_374_614_CTLA4_site9_OB2_CTLA4_site...   \n",
       "3  CTLA4_site3_425_675_CTLA4_site9_OB2_CTLA4_site...   \n",
       "\n",
       "   Control_2_highest_a_g_pct Control_2_highest_c_t_pct  \\\n",
       "0                        0.0                       0.0   \n",
       "1                        0.0                       0.0   \n",
       "2                        0.0                       0.0   \n",
       "3                        0.0                       0.0   \n",
       "\n",
       "  Control_2_highest_indel_pct  Control_2_tot_reads  \\\n",
       "0                         0.0                117.0   \n",
       "1                         0.0                 34.0   \n",
       "2                         0.0                149.0   \n",
       "3                         0.0                 81.0   \n",
       "\n",
       "                        Control_3_pooled_result_name  \\\n",
       "0  CTLA4_site0_425_675_CTLA4_site9_ON_CTLA4_site0...   \n",
       "1  CTLA4_site1_358_599_CTLA4_site9_OB2_CTLA4_site...   \n",
       "2  CTLA4_site2_374_614_CTLA4_site9_OB2_CTLA4_site...   \n",
       "3  CTLA4_site3_425_675_CTLA4_site9_OB2_CTLA4_site...   \n",
       "\n",
       "   Control_3_highest_a_g_pct  Control_3_highest_c_t_pct  \\\n",
       "0                   0.000000                   0.833333   \n",
       "1                   0.000000                   0.000000   \n",
       "2                   0.000000                   0.000000   \n",
       "3                   1.098901                   0.000000   \n",
       "\n",
       "   Control_3_highest_indel_pct  Control_3_tot_reads  \n",
       "0                          0.0                120.0  \n",
       "1                          0.0                 32.0  \n",
       "2                          0.0                145.0  \n",
       "3                          0.0                 91.0  \n",
       "\n",
       "[4 rows x 45 columns]"
      ]
     },
     "execution_count": 5,
     "metadata": {},
     "output_type": "execute_result"
    }
   ],
   "source": [
    "# Next, read in the aggregated stats file\n",
    "agg_stats_file = \"CRISPRessoSea_output_on_samples.demo.txt/aggregated_stats_all.txt\"\n",
    "agg_stats = pd.read_csv(agg_stats_file, sep=\"\\t\")\n",
    "agg_stats"
   ]
  },
  {
   "cell_type": "code",
   "execution_count": 6,
   "id": "62e3f333",
   "metadata": {},
   "outputs": [
    {
     "data": {
      "application/vnd.microsoft.datawrangler.viewer.v0+json": {
       "columns": [
        {
         "name": "index",
         "rawType": "int64",
         "type": "integer"
        },
        {
         "name": "target_id",
         "rawType": "object",
         "type": "string"
        },
        {
         "name": "target_name",
         "rawType": "object",
         "type": "string"
        },
        {
         "name": "sort_index",
         "rawType": "int64",
         "type": "integer"
        },
        {
         "name": "target_chr",
         "rawType": "object",
         "type": "string"
        },
        {
         "name": "target_pos",
         "rawType": "int64",
         "type": "integer"
        },
        {
         "name": "target_seq_no_gaps_with_pam",
         "rawType": "object",
         "type": "string"
        },
        {
         "name": "target_seq_no_gaps",
         "rawType": "object",
         "type": "string"
        },
        {
         "name": "target_seq_with_gaps",
         "rawType": "object",
         "type": "string"
        },
        {
         "name": "target_pam",
         "rawType": "object",
         "type": "string"
        },
        {
         "name": "ontarget_name",
         "rawType": "object",
         "type": "string"
        },
        {
         "name": "ontarget_sequence",
         "rawType": "object",
         "type": "string"
        },
        {
         "name": "matched_region_count",
         "rawType": "int64",
         "type": "integer"
        },
        {
         "name": "matched_region",
         "rawType": "object",
         "type": "string"
        },
        {
         "name": "matched_region_id",
         "rawType": "object",
         "type": "string"
        },
        {
         "name": "region_anno",
         "rawType": "float64",
         "type": "float"
        },
        {
         "name": "Treated_1_pooled_result_name",
         "rawType": "object",
         "type": "string"
        },
        {
         "name": "Treated_1_highest_a_g_pct",
         "rawType": "float64",
         "type": "float"
        },
        {
         "name": "Treated_1_highest_c_t_pct",
         "rawType": "float64",
         "type": "float"
        },
        {
         "name": "Treated_1_highest_indel_pct",
         "rawType": "float64",
         "type": "float"
        },
        {
         "name": "Treated_1_tot_reads",
         "rawType": "float64",
         "type": "float"
        },
        {
         "name": "Treated_2_pooled_result_name",
         "rawType": "object",
         "type": "string"
        },
        {
         "name": "Treated_2_highest_a_g_pct",
         "rawType": "float64",
         "type": "float"
        },
        {
         "name": "Treated_2_highest_c_t_pct",
         "rawType": "float64",
         "type": "float"
        },
        {
         "name": "Treated_2_highest_indel_pct",
         "rawType": "float64",
         "type": "float"
        },
        {
         "name": "Treated_2_tot_reads",
         "rawType": "float64",
         "type": "float"
        },
        {
         "name": "Treated_3_pooled_result_name",
         "rawType": "object",
         "type": "string"
        },
        {
         "name": "Treated_3_highest_a_g_pct",
         "rawType": "float64",
         "type": "float"
        },
        {
         "name": "Treated_3_highest_c_t_pct",
         "rawType": "float64",
         "type": "float"
        },
        {
         "name": "Treated_3_highest_indel_pct",
         "rawType": "float64",
         "type": "float"
        },
        {
         "name": "Treated_3_tot_reads",
         "rawType": "float64",
         "type": "float"
        },
        {
         "name": "Control_1_pooled_result_name",
         "rawType": "object",
         "type": "string"
        },
        {
         "name": "Control_1_highest_a_g_pct",
         "rawType": "float64",
         "type": "float"
        },
        {
         "name": "Control_1_highest_c_t_pct",
         "rawType": "float64",
         "type": "float"
        },
        {
         "name": "Control_1_highest_indel_pct",
         "rawType": "float64",
         "type": "float"
        },
        {
         "name": "Control_1_tot_reads",
         "rawType": "float64",
         "type": "float"
        },
        {
         "name": "Control_2_pooled_result_name",
         "rawType": "object",
         "type": "string"
        },
        {
         "name": "Control_2_highest_a_g_pct",
         "rawType": "float64",
         "type": "float"
        },
        {
         "name": "Control_2_highest_c_t_pct",
         "rawType": "float64",
         "type": "float"
        },
        {
         "name": "Control_2_highest_indel_pct",
         "rawType": "float64",
         "type": "float"
        },
        {
         "name": "Control_2_tot_reads",
         "rawType": "float64",
         "type": "float"
        },
        {
         "name": "Control_3_pooled_result_name",
         "rawType": "object",
         "type": "string"
        },
        {
         "name": "Control_3_highest_a_g_pct",
         "rawType": "float64",
         "type": "float"
        },
        {
         "name": "Control_3_highest_c_t_pct",
         "rawType": "float64",
         "type": "float"
        },
        {
         "name": "Control_3_highest_indel_pct",
         "rawType": "float64",
         "type": "float"
        },
        {
         "name": "Control_3_tot_reads",
         "rawType": "float64",
         "type": "float"
        }
       ],
       "ref": "dcdc1628-fa45-4174-a2bb-ded341b4b932",
       "rows": [
        [
         "0",
         "0_CTLA4_site9_ON",
         "CTLA4_site9_ON_CTLA4_site0_500",
         "0",
         "CTLA4_site0",
         "500",
         "GGACTGAGGGCCATGGACACGGG",
         "GGACTGAGGGCCATGGACAC",
         "GGACTGAGGGCCATGGACAC",
         "GGG",
         "CTLA4_site9",
         "GGACTGAGGGCCATGGACAC",
         "1",
         "CTLA4_site0_425_675",
         "CTLA4_site0_425_675_CTLA4_site9_ON_CTLA4_site0_500",
         null,
         "CTLA4_site0_425_675_CTLA4_site9_ON_CTLA4_site0_500",
         "1.0416666666666663",
         "0.0",
         "65.625",
         "96.0",
         "CTLA4_site0_425_675_CTLA4_site9_ON_CTLA4_site0_500",
         "1.1494252873563218",
         "0.0",
         "79.3103448275862",
         "87.0",
         "CTLA4_site0_425_675_CTLA4_site9_ON_CTLA4_site0_500",
         "0.0",
         "0.0",
         "70.65217391304348",
         "92.0",
         "CTLA4_site0_425_675_CTLA4_site9_ON_CTLA4_site0_500",
         "0.0",
         "0.0",
         "0.0",
         "149.0",
         "CTLA4_site0_425_675_CTLA4_site9_ON_CTLA4_site0_500",
         "0.0",
         "0.0",
         "0.0",
         "117.0",
         "CTLA4_site0_425_675_CTLA4_site9_ON_CTLA4_site0_500",
         "0.0",
         "0.8333333333333334",
         "0.0",
         "120.0"
        ],
        [
         "2",
         "2_CTLA4_site9_OB2",
         "CTLA4_site9_OB2_CTLA4_site2_500",
         "2",
         "CTLA4_site2",
         "500",
         "GGAaTGAGGcCCATGGACACTGG",
         "GGAaTGAGGcCCATGGACAC",
         "GGAaTGAGGcCCATGGACAC",
         "TGG",
         "CTLA4_site9",
         "GGACTGAGGGCCATGGACAC",
         "1",
         "CTLA4_site2_374_614",
         "CTLA4_site2_374_614_CTLA4_site9_OB2_CTLA4_site2_500",
         null,
         "CTLA4_site2_374_614_CTLA4_site9_OB2_CTLA4_site2_500",
         "0.0",
         "0.0",
         "14.864864864864863",
         "148.0",
         "CTLA4_site2_374_614_CTLA4_site9_OB2_CTLA4_site2_500",
         "0.0",
         "0.8264462809917356",
         "18.181818181818183",
         "121.0",
         "CTLA4_site2_374_614_CTLA4_site9_OB2_CTLA4_site2_500",
         "0.7092198581560284",
         "0.0",
         "19.8581560283688",
         "141.0",
         "CTLA4_site2_374_614_CTLA4_site9_OB2_CTLA4_site2_500",
         "0.6535947712418301",
         "0.0",
         "0.0",
         "153.0",
         "CTLA4_site2_374_614_CTLA4_site9_OB2_CTLA4_site2_500",
         "0.0",
         "0.0",
         "0.0",
         "149.0",
         "CTLA4_site2_374_614_CTLA4_site9_OB2_CTLA4_site2_500",
         "0.0",
         "0.0",
         "0.0",
         "145.0"
        ],
        [
         "3",
         "3_CTLA4_site9_OB2",
         "CTLA4_site9_OB2_CTLA4_site3_500",
         "3",
         "CTLA4_site3",
         "500",
         "GGACTGgGGGCCtTGGACACAGG",
         "GGACTGgGGGCCtTGGACAC",
         "GGACTGgGGGCCtTGGACAC",
         "AGG",
         "CTLA4_site9",
         "GGACTGAGGGCCATGGACAC",
         "1",
         "CTLA4_site3_425_675",
         "CTLA4_site3_425_675_CTLA4_site9_OB2_CTLA4_site3_500",
         null,
         "CTLA4_site3_425_675_CTLA4_site9_OB2_CTLA4_site3_500",
         "0.0",
         "0.0",
         "1.2987012987012987",
         "77.0",
         "CTLA4_site3_425_675_CTLA4_site9_OB2_CTLA4_site3_500",
         "0.0",
         "0.0",
         "1.1363636363636365",
         "88.0",
         "CTLA4_site3_425_675_CTLA4_site9_OB2_CTLA4_site3_500",
         "0.8",
         "0.0",
         "2.4",
         "125.0",
         "CTLA4_site3_425_675_CTLA4_site9_OB2_CTLA4_site3_500",
         "0.0",
         "0.9708737864077668",
         "0.0",
         "103.0",
         "CTLA4_site3_425_675_CTLA4_site9_OB2_CTLA4_site3_500",
         "0.0",
         "0.0",
         "0.0",
         "81.0",
         "CTLA4_site3_425_675_CTLA4_site9_OB2_CTLA4_site3_500",
         "1.098901098901099",
         "0.0",
         "0.0",
         "91.0"
        ],
        [
         "1",
         "1_CTLA4_site9_OB2",
         "CTLA4_site9_OB2_CTLA4_site1_500",
         "1",
         "CTLA4_site1",
         "500",
         "GGACaGAGGGCCcTGGACACAGG",
         "GGACaGAGGGCCcTGGACAC",
         "GGACaGAGGGCCcTGGACAC",
         "AGG",
         "CTLA4_site9",
         "GGACTGAGGGCCATGGACAC",
         "1",
         "CTLA4_site1_358_599",
         "CTLA4_site1_358_599_CTLA4_site9_OB2_CTLA4_site1_500",
         null,
         "CTLA4_site1_358_599_CTLA4_site9_OB2_CTLA4_site1_500",
         "0.0",
         "0.0",
         "0.0",
         "27.0",
         "CTLA4_site1_358_599_CTLA4_site9_OB2_CTLA4_site1_500",
         "0.0",
         "0.0",
         "0.0",
         "32.0",
         "CTLA4_site1_358_599_CTLA4_site9_OB2_CTLA4_site1_500",
         "0.0",
         "0.0",
         "2.380952380952381",
         "42.0",
         "CTLA4_site1_358_599_CTLA4_site9_OB2_CTLA4_site1_500",
         "0.0",
         "0.0",
         "0.0",
         "35.0",
         "CTLA4_site1_358_599_CTLA4_site9_OB2_CTLA4_site1_500",
         "0.0",
         "0.0",
         "0.0",
         "34.0",
         "CTLA4_site1_358_599_CTLA4_site9_OB2_CTLA4_site1_500",
         "0.0",
         "0.0",
         "0.0",
         "32.0"
        ]
       ],
       "shape": {
        "columns": 45,
        "rows": 4
       }
      },
      "text/html": [
       "<div>\n",
       "<style scoped>\n",
       "    .dataframe tbody tr th:only-of-type {\n",
       "        vertical-align: middle;\n",
       "    }\n",
       "\n",
       "    .dataframe tbody tr th {\n",
       "        vertical-align: top;\n",
       "    }\n",
       "\n",
       "    .dataframe thead th {\n",
       "        text-align: right;\n",
       "    }\n",
       "</style>\n",
       "<table border=\"1\" class=\"dataframe\">\n",
       "  <thead>\n",
       "    <tr style=\"text-align: right;\">\n",
       "      <th></th>\n",
       "      <th>target_id</th>\n",
       "      <th>target_name</th>\n",
       "      <th>sort_index</th>\n",
       "      <th>target_chr</th>\n",
       "      <th>target_pos</th>\n",
       "      <th>target_seq_no_gaps_with_pam</th>\n",
       "      <th>target_seq_no_gaps</th>\n",
       "      <th>target_seq_with_gaps</th>\n",
       "      <th>target_pam</th>\n",
       "      <th>ontarget_name</th>\n",
       "      <th>...</th>\n",
       "      <th>Control_2_pooled_result_name</th>\n",
       "      <th>Control_2_highest_a_g_pct</th>\n",
       "      <th>Control_2_highest_c_t_pct</th>\n",
       "      <th>Control_2_highest_indel_pct</th>\n",
       "      <th>Control_2_tot_reads</th>\n",
       "      <th>Control_3_pooled_result_name</th>\n",
       "      <th>Control_3_highest_a_g_pct</th>\n",
       "      <th>Control_3_highest_c_t_pct</th>\n",
       "      <th>Control_3_highest_indel_pct</th>\n",
       "      <th>Control_3_tot_reads</th>\n",
       "    </tr>\n",
       "  </thead>\n",
       "  <tbody>\n",
       "    <tr>\n",
       "      <th>0</th>\n",
       "      <td>0_CTLA4_site9_ON</td>\n",
       "      <td>CTLA4_site9_ON_CTLA4_site0_500</td>\n",
       "      <td>0</td>\n",
       "      <td>CTLA4_site0</td>\n",
       "      <td>500</td>\n",
       "      <td>GGACTGAGGGCCATGGACACGGG</td>\n",
       "      <td>GGACTGAGGGCCATGGACAC</td>\n",
       "      <td>GGACTGAGGGCCATGGACAC</td>\n",
       "      <td>GGG</td>\n",
       "      <td>CTLA4_site9</td>\n",
       "      <td>...</td>\n",
       "      <td>CTLA4_site0_425_675_CTLA4_site9_ON_CTLA4_site0...</td>\n",
       "      <td>0.0</td>\n",
       "      <td>0.0</td>\n",
       "      <td>0.0</td>\n",
       "      <td>117.0</td>\n",
       "      <td>CTLA4_site0_425_675_CTLA4_site9_ON_CTLA4_site0...</td>\n",
       "      <td>0.000000</td>\n",
       "      <td>0.833333</td>\n",
       "      <td>0.0</td>\n",
       "      <td>120.0</td>\n",
       "    </tr>\n",
       "    <tr>\n",
       "      <th>2</th>\n",
       "      <td>2_CTLA4_site9_OB2</td>\n",
       "      <td>CTLA4_site9_OB2_CTLA4_site2_500</td>\n",
       "      <td>2</td>\n",
       "      <td>CTLA4_site2</td>\n",
       "      <td>500</td>\n",
       "      <td>GGAaTGAGGcCCATGGACACTGG</td>\n",
       "      <td>GGAaTGAGGcCCATGGACAC</td>\n",
       "      <td>GGAaTGAGGcCCATGGACAC</td>\n",
       "      <td>TGG</td>\n",
       "      <td>CTLA4_site9</td>\n",
       "      <td>...</td>\n",
       "      <td>CTLA4_site2_374_614_CTLA4_site9_OB2_CTLA4_site...</td>\n",
       "      <td>0.0</td>\n",
       "      <td>0.0</td>\n",
       "      <td>0.0</td>\n",
       "      <td>149.0</td>\n",
       "      <td>CTLA4_site2_374_614_CTLA4_site9_OB2_CTLA4_site...</td>\n",
       "      <td>0.000000</td>\n",
       "      <td>0.000000</td>\n",
       "      <td>0.0</td>\n",
       "      <td>145.0</td>\n",
       "    </tr>\n",
       "    <tr>\n",
       "      <th>3</th>\n",
       "      <td>3_CTLA4_site9_OB2</td>\n",
       "      <td>CTLA4_site9_OB2_CTLA4_site3_500</td>\n",
       "      <td>3</td>\n",
       "      <td>CTLA4_site3</td>\n",
       "      <td>500</td>\n",
       "      <td>GGACTGgGGGCCtTGGACACAGG</td>\n",
       "      <td>GGACTGgGGGCCtTGGACAC</td>\n",
       "      <td>GGACTGgGGGCCtTGGACAC</td>\n",
       "      <td>AGG</td>\n",
       "      <td>CTLA4_site9</td>\n",
       "      <td>...</td>\n",
       "      <td>CTLA4_site3_425_675_CTLA4_site9_OB2_CTLA4_site...</td>\n",
       "      <td>0.0</td>\n",
       "      <td>0.0</td>\n",
       "      <td>0.0</td>\n",
       "      <td>81.0</td>\n",
       "      <td>CTLA4_site3_425_675_CTLA4_site9_OB2_CTLA4_site...</td>\n",
       "      <td>1.098901</td>\n",
       "      <td>0.000000</td>\n",
       "      <td>0.0</td>\n",
       "      <td>91.0</td>\n",
       "    </tr>\n",
       "    <tr>\n",
       "      <th>1</th>\n",
       "      <td>1_CTLA4_site9_OB2</td>\n",
       "      <td>CTLA4_site9_OB2_CTLA4_site1_500</td>\n",
       "      <td>1</td>\n",
       "      <td>CTLA4_site1</td>\n",
       "      <td>500</td>\n",
       "      <td>GGACaGAGGGCCcTGGACACAGG</td>\n",
       "      <td>GGACaGAGGGCCcTGGACAC</td>\n",
       "      <td>GGACaGAGGGCCcTGGACAC</td>\n",
       "      <td>AGG</td>\n",
       "      <td>CTLA4_site9</td>\n",
       "      <td>...</td>\n",
       "      <td>CTLA4_site1_358_599_CTLA4_site9_OB2_CTLA4_site...</td>\n",
       "      <td>0.0</td>\n",
       "      <td>0.0</td>\n",
       "      <td>0.0</td>\n",
       "      <td>34.0</td>\n",
       "      <td>CTLA4_site1_358_599_CTLA4_site9_OB2_CTLA4_site...</td>\n",
       "      <td>0.000000</td>\n",
       "      <td>0.000000</td>\n",
       "      <td>0.0</td>\n",
       "      <td>32.0</td>\n",
       "    </tr>\n",
       "  </tbody>\n",
       "</table>\n",
       "<p>4 rows × 45 columns</p>\n",
       "</div>"
      ],
      "text/plain": [
       "           target_id                      target_name  sort_index  \\\n",
       "0   0_CTLA4_site9_ON   CTLA4_site9_ON_CTLA4_site0_500           0   \n",
       "2  2_CTLA4_site9_OB2  CTLA4_site9_OB2_CTLA4_site2_500           2   \n",
       "3  3_CTLA4_site9_OB2  CTLA4_site9_OB2_CTLA4_site3_500           3   \n",
       "1  1_CTLA4_site9_OB2  CTLA4_site9_OB2_CTLA4_site1_500           1   \n",
       "\n",
       "    target_chr  target_pos target_seq_no_gaps_with_pam    target_seq_no_gaps  \\\n",
       "0  CTLA4_site0         500     GGACTGAGGGCCATGGACACGGG  GGACTGAGGGCCATGGACAC   \n",
       "2  CTLA4_site2         500     GGAaTGAGGcCCATGGACACTGG  GGAaTGAGGcCCATGGACAC   \n",
       "3  CTLA4_site3         500     GGACTGgGGGCCtTGGACACAGG  GGACTGgGGGCCtTGGACAC   \n",
       "1  CTLA4_site1         500     GGACaGAGGGCCcTGGACACAGG  GGACaGAGGGCCcTGGACAC   \n",
       "\n",
       "   target_seq_with_gaps target_pam ontarget_name  ...  \\\n",
       "0  GGACTGAGGGCCATGGACAC        GGG   CTLA4_site9  ...   \n",
       "2  GGAaTGAGGcCCATGGACAC        TGG   CTLA4_site9  ...   \n",
       "3  GGACTGgGGGCCtTGGACAC        AGG   CTLA4_site9  ...   \n",
       "1  GGACaGAGGGCCcTGGACAC        AGG   CTLA4_site9  ...   \n",
       "\n",
       "                        Control_2_pooled_result_name  \\\n",
       "0  CTLA4_site0_425_675_CTLA4_site9_ON_CTLA4_site0...   \n",
       "2  CTLA4_site2_374_614_CTLA4_site9_OB2_CTLA4_site...   \n",
       "3  CTLA4_site3_425_675_CTLA4_site9_OB2_CTLA4_site...   \n",
       "1  CTLA4_site1_358_599_CTLA4_site9_OB2_CTLA4_site...   \n",
       "\n",
       "   Control_2_highest_a_g_pct Control_2_highest_c_t_pct  \\\n",
       "0                        0.0                       0.0   \n",
       "2                        0.0                       0.0   \n",
       "3                        0.0                       0.0   \n",
       "1                        0.0                       0.0   \n",
       "\n",
       "  Control_2_highest_indel_pct  Control_2_tot_reads  \\\n",
       "0                         0.0                117.0   \n",
       "2                         0.0                149.0   \n",
       "3                         0.0                 81.0   \n",
       "1                         0.0                 34.0   \n",
       "\n",
       "                        Control_3_pooled_result_name  \\\n",
       "0  CTLA4_site0_425_675_CTLA4_site9_ON_CTLA4_site0...   \n",
       "2  CTLA4_site2_374_614_CTLA4_site9_OB2_CTLA4_site...   \n",
       "3  CTLA4_site3_425_675_CTLA4_site9_OB2_CTLA4_site...   \n",
       "1  CTLA4_site1_358_599_CTLA4_site9_OB2_CTLA4_site...   \n",
       "\n",
       "   Control_3_highest_a_g_pct  Control_3_highest_c_t_pct  \\\n",
       "0                   0.000000                   0.833333   \n",
       "2                   0.000000                   0.000000   \n",
       "3                   1.098901                   0.000000   \n",
       "1                   0.000000                   0.000000   \n",
       "\n",
       "   Control_3_highest_indel_pct  Control_3_tot_reads  \n",
       "0                          0.0                120.0  \n",
       "2                          0.0                145.0  \n",
       "3                          0.0                 91.0  \n",
       "1                          0.0                 32.0  \n",
       "\n",
       "[4 rows x 45 columns]"
      ]
     },
     "execution_count": 6,
     "metadata": {},
     "output_type": "execute_result"
    }
   ],
   "source": [
    "# site1 in row 2 has the least editing so let's move it to the bottom\n",
    "agg_stats = agg_stats.reindex([0, 2, 3, 1])\n",
    "agg_stats"
   ]
  },
  {
   "cell_type": "code",
   "execution_count": 7,
   "id": "7b6be974",
   "metadata": {},
   "outputs": [
    {
     "data": {
      "application/vnd.microsoft.datawrangler.viewer.v0+json": {
       "columns": [
        {
         "name": "index",
         "rawType": "int64",
         "type": "integer"
        },
        {
         "name": "target_id",
         "rawType": "object",
         "type": "string"
        },
        {
         "name": "target_name",
         "rawType": "object",
         "type": "string"
        },
        {
         "name": "sort_index",
         "rawType": "int64",
         "type": "integer"
        },
        {
         "name": "target_chr",
         "rawType": "object",
         "type": "string"
        },
        {
         "name": "target_pos",
         "rawType": "int64",
         "type": "integer"
        },
        {
         "name": "target_seq_no_gaps_with_pam",
         "rawType": "object",
         "type": "string"
        },
        {
         "name": "target_seq_no_gaps",
         "rawType": "object",
         "type": "string"
        },
        {
         "name": "target_seq_with_gaps",
         "rawType": "object",
         "type": "string"
        },
        {
         "name": "target_pam",
         "rawType": "object",
         "type": "string"
        },
        {
         "name": "ontarget_name",
         "rawType": "object",
         "type": "string"
        },
        {
         "name": "ontarget_sequence",
         "rawType": "object",
         "type": "string"
        },
        {
         "name": "matched_region_count",
         "rawType": "int64",
         "type": "integer"
        },
        {
         "name": "matched_region",
         "rawType": "object",
         "type": "string"
        },
        {
         "name": "matched_region_id",
         "rawType": "object",
         "type": "string"
        },
        {
         "name": "region_anno",
         "rawType": "float64",
         "type": "float"
        },
        {
         "name": "Treated_1_pooled_result_name",
         "rawType": "object",
         "type": "string"
        },
        {
         "name": "Treated_1_highest_a_g_pct",
         "rawType": "float64",
         "type": "float"
        },
        {
         "name": "Treated_1_highest_c_t_pct",
         "rawType": "float64",
         "type": "float"
        },
        {
         "name": "Treated_1_highest_indel_pct",
         "rawType": "float64",
         "type": "float"
        },
        {
         "name": "Treated_1_tot_reads",
         "rawType": "float64",
         "type": "float"
        },
        {
         "name": "Treated_2_pooled_result_name",
         "rawType": "object",
         "type": "string"
        },
        {
         "name": "Treated_2_highest_a_g_pct",
         "rawType": "float64",
         "type": "float"
        },
        {
         "name": "Treated_2_highest_c_t_pct",
         "rawType": "float64",
         "type": "float"
        },
        {
         "name": "Treated_2_highest_indel_pct",
         "rawType": "float64",
         "type": "float"
        },
        {
         "name": "Treated_2_tot_reads",
         "rawType": "float64",
         "type": "float"
        },
        {
         "name": "Treated_3_pooled_result_name",
         "rawType": "object",
         "type": "string"
        },
        {
         "name": "Treated_3_highest_a_g_pct",
         "rawType": "float64",
         "type": "float"
        },
        {
         "name": "Treated_3_highest_c_t_pct",
         "rawType": "float64",
         "type": "float"
        },
        {
         "name": "Treated_3_highest_indel_pct",
         "rawType": "float64",
         "type": "float"
        },
        {
         "name": "Treated_3_tot_reads",
         "rawType": "float64",
         "type": "float"
        },
        {
         "name": "Control_1_pooled_result_name",
         "rawType": "object",
         "type": "string"
        },
        {
         "name": "Control_1_highest_a_g_pct",
         "rawType": "float64",
         "type": "float"
        },
        {
         "name": "Control_1_highest_c_t_pct",
         "rawType": "float64",
         "type": "float"
        },
        {
         "name": "Control_1_highest_indel_pct",
         "rawType": "float64",
         "type": "float"
        },
        {
         "name": "Control_1_tot_reads",
         "rawType": "float64",
         "type": "float"
        },
        {
         "name": "Control_2_pooled_result_name",
         "rawType": "object",
         "type": "string"
        },
        {
         "name": "Control_2_highest_a_g_pct",
         "rawType": "float64",
         "type": "float"
        },
        {
         "name": "Control_2_highest_c_t_pct",
         "rawType": "float64",
         "type": "float"
        },
        {
         "name": "Control_2_highest_indel_pct",
         "rawType": "float64",
         "type": "float"
        },
        {
         "name": "Control_2_tot_reads",
         "rawType": "float64",
         "type": "float"
        },
        {
         "name": "Control_3_pooled_result_name",
         "rawType": "object",
         "type": "string"
        },
        {
         "name": "Control_3_highest_a_g_pct",
         "rawType": "float64",
         "type": "float"
        },
        {
         "name": "Control_3_highest_c_t_pct",
         "rawType": "float64",
         "type": "float"
        },
        {
         "name": "Control_3_highest_indel_pct",
         "rawType": "float64",
         "type": "float"
        },
        {
         "name": "Control_3_tot_reads",
         "rawType": "float64",
         "type": "float"
        }
       ],
       "ref": "7a6e68d7-80f4-4122-ba29-8b5be377d2ae",
       "rows": [
        [
         "0",
         "0_CTLA4_site9_ON",
         "chr2:203MB ON",
         "0",
         "CTLA4_site0",
         "500",
         "GGACTGAGGGCCATGGACACGGG",
         "GGACTGAGGGCCATGGACAC",
         "GGACTGAGGGCCATGGACAC",
         "GGG",
         "CTLA4_site9",
         "GGACTGAGGGCCATGGACAC",
         "1",
         "CTLA4_site0_425_675",
         "CTLA4_site0_425_675_CTLA4_site9_ON_CTLA4_site0_500",
         null,
         "CTLA4_site0_425_675_CTLA4_site9_ON_CTLA4_site0_500",
         "1.0416666666666663",
         "0.0",
         "65.625",
         "96.0",
         "CTLA4_site0_425_675_CTLA4_site9_ON_CTLA4_site0_500",
         "1.1494252873563218",
         "0.0",
         "79.3103448275862",
         "87.0",
         "CTLA4_site0_425_675_CTLA4_site9_ON_CTLA4_site0_500",
         "0.0",
         "0.0",
         "70.65217391304348",
         "92.0",
         "CTLA4_site0_425_675_CTLA4_site9_ON_CTLA4_site0_500",
         "0.0",
         "0.0",
         "0.0",
         "149.0",
         "CTLA4_site0_425_675_CTLA4_site9_ON_CTLA4_site0_500",
         "0.0",
         "0.0",
         "0.0",
         "117.0",
         "CTLA4_site0_425_675_CTLA4_site9_ON_CTLA4_site0_500",
         "0.0",
         "0.8333333333333334",
         "0.0",
         "120.0"
        ],
        [
         "2",
         "2_CTLA4_site9_OB2",
         "chr5:101MB OB2",
         "2",
         "CTLA4_site2",
         "500",
         "GGAaTGAGGcCCATGGACACTGG",
         "GGAaTGAGGcCCATGGACAC",
         "GGAaTGAGGcCCATGGACAC",
         "TGG",
         "CTLA4_site9",
         "GGACTGAGGGCCATGGACAC",
         "1",
         "CTLA4_site2_374_614",
         "CTLA4_site2_374_614_CTLA4_site9_OB2_CTLA4_site2_500",
         null,
         "CTLA4_site2_374_614_CTLA4_site9_OB2_CTLA4_site2_500",
         "0.0",
         "0.0",
         "14.864864864864863",
         "148.0",
         "CTLA4_site2_374_614_CTLA4_site9_OB2_CTLA4_site2_500",
         "0.0",
         "0.8264462809917356",
         "18.181818181818183",
         "121.0",
         "CTLA4_site2_374_614_CTLA4_site9_OB2_CTLA4_site2_500",
         "0.7092198581560284",
         "0.0",
         "19.8581560283688",
         "141.0",
         "CTLA4_site2_374_614_CTLA4_site9_OB2_CTLA4_site2_500",
         "0.6535947712418301",
         "0.0",
         "0.0",
         "153.0",
         "CTLA4_site2_374_614_CTLA4_site9_OB2_CTLA4_site2_500",
         "0.0",
         "0.0",
         "0.0",
         "149.0",
         "CTLA4_site2_374_614_CTLA4_site9_OB2_CTLA4_site2_500",
         "0.0",
         "0.0",
         "0.0",
         "145.0"
        ],
        [
         "3",
         "3_CTLA4_site9_OB2",
         "chr9:121MB OB2",
         "3",
         "CTLA4_site3",
         "500",
         "GGACTGgGGGCCtTGGACACAGG",
         "GGACTGgGGGCCtTGGACAC",
         "GGACTGgGGGCCtTGGACAC",
         "AGG",
         "CTLA4_site9",
         "GGACTGAGGGCCATGGACAC",
         "1",
         "CTLA4_site3_425_675",
         "CTLA4_site3_425_675_CTLA4_site9_OB2_CTLA4_site3_500",
         null,
         "CTLA4_site3_425_675_CTLA4_site9_OB2_CTLA4_site3_500",
         "0.0",
         "0.0",
         "1.2987012987012987",
         "77.0",
         "CTLA4_site3_425_675_CTLA4_site9_OB2_CTLA4_site3_500",
         "0.0",
         "0.0",
         "1.1363636363636365",
         "88.0",
         "CTLA4_site3_425_675_CTLA4_site9_OB2_CTLA4_site3_500",
         "0.8",
         "0.0",
         "2.4",
         "125.0",
         "CTLA4_site3_425_675_CTLA4_site9_OB2_CTLA4_site3_500",
         "0.0",
         "0.9708737864077668",
         "0.0",
         "103.0",
         "CTLA4_site3_425_675_CTLA4_site9_OB2_CTLA4_site3_500",
         "0.0",
         "0.0",
         "0.0",
         "81.0",
         "CTLA4_site3_425_675_CTLA4_site9_OB2_CTLA4_site3_500",
         "1.098901098901099",
         "0.0",
         "0.0",
         "91.0"
        ],
        [
         "1",
         "1_CTLA4_site9_OB2",
         "chr9:135MB OB2",
         "1",
         "CTLA4_site1",
         "500",
         "GGACaGAGGGCCcTGGACACAGG",
         "GGACaGAGGGCCcTGGACAC",
         "GGACaGAGGGCCcTGGACAC",
         "AGG",
         "CTLA4_site9",
         "GGACTGAGGGCCATGGACAC",
         "1",
         "CTLA4_site1_358_599",
         "CTLA4_site1_358_599_CTLA4_site9_OB2_CTLA4_site1_500",
         null,
         "CTLA4_site1_358_599_CTLA4_site9_OB2_CTLA4_site1_500",
         "0.0",
         "0.0",
         "0.0",
         "27.0",
         "CTLA4_site1_358_599_CTLA4_site9_OB2_CTLA4_site1_500",
         "0.0",
         "0.0",
         "0.0",
         "32.0",
         "CTLA4_site1_358_599_CTLA4_site9_OB2_CTLA4_site1_500",
         "0.0",
         "0.0",
         "2.380952380952381",
         "42.0",
         "CTLA4_site1_358_599_CTLA4_site9_OB2_CTLA4_site1_500",
         "0.0",
         "0.0",
         "0.0",
         "35.0",
         "CTLA4_site1_358_599_CTLA4_site9_OB2_CTLA4_site1_500",
         "0.0",
         "0.0",
         "0.0",
         "34.0",
         "CTLA4_site1_358_599_CTLA4_site9_OB2_CTLA4_site1_500",
         "0.0",
         "0.0",
         "0.0",
         "32.0"
        ]
       ],
       "shape": {
        "columns": 45,
        "rows": 4
       }
      },
      "text/html": [
       "<div>\n",
       "<style scoped>\n",
       "    .dataframe tbody tr th:only-of-type {\n",
       "        vertical-align: middle;\n",
       "    }\n",
       "\n",
       "    .dataframe tbody tr th {\n",
       "        vertical-align: top;\n",
       "    }\n",
       "\n",
       "    .dataframe thead th {\n",
       "        text-align: right;\n",
       "    }\n",
       "</style>\n",
       "<table border=\"1\" class=\"dataframe\">\n",
       "  <thead>\n",
       "    <tr style=\"text-align: right;\">\n",
       "      <th></th>\n",
       "      <th>target_id</th>\n",
       "      <th>target_name</th>\n",
       "      <th>sort_index</th>\n",
       "      <th>target_chr</th>\n",
       "      <th>target_pos</th>\n",
       "      <th>target_seq_no_gaps_with_pam</th>\n",
       "      <th>target_seq_no_gaps</th>\n",
       "      <th>target_seq_with_gaps</th>\n",
       "      <th>target_pam</th>\n",
       "      <th>ontarget_name</th>\n",
       "      <th>...</th>\n",
       "      <th>Control_2_pooled_result_name</th>\n",
       "      <th>Control_2_highest_a_g_pct</th>\n",
       "      <th>Control_2_highest_c_t_pct</th>\n",
       "      <th>Control_2_highest_indel_pct</th>\n",
       "      <th>Control_2_tot_reads</th>\n",
       "      <th>Control_3_pooled_result_name</th>\n",
       "      <th>Control_3_highest_a_g_pct</th>\n",
       "      <th>Control_3_highest_c_t_pct</th>\n",
       "      <th>Control_3_highest_indel_pct</th>\n",
       "      <th>Control_3_tot_reads</th>\n",
       "    </tr>\n",
       "  </thead>\n",
       "  <tbody>\n",
       "    <tr>\n",
       "      <th>0</th>\n",
       "      <td>0_CTLA4_site9_ON</td>\n",
       "      <td>chr2:203MB ON</td>\n",
       "      <td>0</td>\n",
       "      <td>CTLA4_site0</td>\n",
       "      <td>500</td>\n",
       "      <td>GGACTGAGGGCCATGGACACGGG</td>\n",
       "      <td>GGACTGAGGGCCATGGACAC</td>\n",
       "      <td>GGACTGAGGGCCATGGACAC</td>\n",
       "      <td>GGG</td>\n",
       "      <td>CTLA4_site9</td>\n",
       "      <td>...</td>\n",
       "      <td>CTLA4_site0_425_675_CTLA4_site9_ON_CTLA4_site0...</td>\n",
       "      <td>0.0</td>\n",
       "      <td>0.0</td>\n",
       "      <td>0.0</td>\n",
       "      <td>117.0</td>\n",
       "      <td>CTLA4_site0_425_675_CTLA4_site9_ON_CTLA4_site0...</td>\n",
       "      <td>0.000000</td>\n",
       "      <td>0.833333</td>\n",
       "      <td>0.0</td>\n",
       "      <td>120.0</td>\n",
       "    </tr>\n",
       "    <tr>\n",
       "      <th>2</th>\n",
       "      <td>2_CTLA4_site9_OB2</td>\n",
       "      <td>chr5:101MB OB2</td>\n",
       "      <td>2</td>\n",
       "      <td>CTLA4_site2</td>\n",
       "      <td>500</td>\n",
       "      <td>GGAaTGAGGcCCATGGACACTGG</td>\n",
       "      <td>GGAaTGAGGcCCATGGACAC</td>\n",
       "      <td>GGAaTGAGGcCCATGGACAC</td>\n",
       "      <td>TGG</td>\n",
       "      <td>CTLA4_site9</td>\n",
       "      <td>...</td>\n",
       "      <td>CTLA4_site2_374_614_CTLA4_site9_OB2_CTLA4_site...</td>\n",
       "      <td>0.0</td>\n",
       "      <td>0.0</td>\n",
       "      <td>0.0</td>\n",
       "      <td>149.0</td>\n",
       "      <td>CTLA4_site2_374_614_CTLA4_site9_OB2_CTLA4_site...</td>\n",
       "      <td>0.000000</td>\n",
       "      <td>0.000000</td>\n",
       "      <td>0.0</td>\n",
       "      <td>145.0</td>\n",
       "    </tr>\n",
       "    <tr>\n",
       "      <th>3</th>\n",
       "      <td>3_CTLA4_site9_OB2</td>\n",
       "      <td>chr9:121MB OB2</td>\n",
       "      <td>3</td>\n",
       "      <td>CTLA4_site3</td>\n",
       "      <td>500</td>\n",
       "      <td>GGACTGgGGGCCtTGGACACAGG</td>\n",
       "      <td>GGACTGgGGGCCtTGGACAC</td>\n",
       "      <td>GGACTGgGGGCCtTGGACAC</td>\n",
       "      <td>AGG</td>\n",
       "      <td>CTLA4_site9</td>\n",
       "      <td>...</td>\n",
       "      <td>CTLA4_site3_425_675_CTLA4_site9_OB2_CTLA4_site...</td>\n",
       "      <td>0.0</td>\n",
       "      <td>0.0</td>\n",
       "      <td>0.0</td>\n",
       "      <td>81.0</td>\n",
       "      <td>CTLA4_site3_425_675_CTLA4_site9_OB2_CTLA4_site...</td>\n",
       "      <td>1.098901</td>\n",
       "      <td>0.000000</td>\n",
       "      <td>0.0</td>\n",
       "      <td>91.0</td>\n",
       "    </tr>\n",
       "    <tr>\n",
       "      <th>1</th>\n",
       "      <td>1_CTLA4_site9_OB2</td>\n",
       "      <td>chr9:135MB OB2</td>\n",
       "      <td>1</td>\n",
       "      <td>CTLA4_site1</td>\n",
       "      <td>500</td>\n",
       "      <td>GGACaGAGGGCCcTGGACACAGG</td>\n",
       "      <td>GGACaGAGGGCCcTGGACAC</td>\n",
       "      <td>GGACaGAGGGCCcTGGACAC</td>\n",
       "      <td>AGG</td>\n",
       "      <td>CTLA4_site9</td>\n",
       "      <td>...</td>\n",
       "      <td>CTLA4_site1_358_599_CTLA4_site9_OB2_CTLA4_site...</td>\n",
       "      <td>0.0</td>\n",
       "      <td>0.0</td>\n",
       "      <td>0.0</td>\n",
       "      <td>34.0</td>\n",
       "      <td>CTLA4_site1_358_599_CTLA4_site9_OB2_CTLA4_site...</td>\n",
       "      <td>0.000000</td>\n",
       "      <td>0.000000</td>\n",
       "      <td>0.0</td>\n",
       "      <td>32.0</td>\n",
       "    </tr>\n",
       "  </tbody>\n",
       "</table>\n",
       "<p>4 rows × 45 columns</p>\n",
       "</div>"
      ],
      "text/plain": [
       "           target_id     target_name  sort_index   target_chr  target_pos  \\\n",
       "0   0_CTLA4_site9_ON   chr2:203MB ON           0  CTLA4_site0         500   \n",
       "2  2_CTLA4_site9_OB2  chr5:101MB OB2           2  CTLA4_site2         500   \n",
       "3  3_CTLA4_site9_OB2  chr9:121MB OB2           3  CTLA4_site3         500   \n",
       "1  1_CTLA4_site9_OB2  chr9:135MB OB2           1  CTLA4_site1         500   \n",
       "\n",
       "  target_seq_no_gaps_with_pam    target_seq_no_gaps  target_seq_with_gaps  \\\n",
       "0     GGACTGAGGGCCATGGACACGGG  GGACTGAGGGCCATGGACAC  GGACTGAGGGCCATGGACAC   \n",
       "2     GGAaTGAGGcCCATGGACACTGG  GGAaTGAGGcCCATGGACAC  GGAaTGAGGcCCATGGACAC   \n",
       "3     GGACTGgGGGCCtTGGACACAGG  GGACTGgGGGCCtTGGACAC  GGACTGgGGGCCtTGGACAC   \n",
       "1     GGACaGAGGGCCcTGGACACAGG  GGACaGAGGGCCcTGGACAC  GGACaGAGGGCCcTGGACAC   \n",
       "\n",
       "  target_pam ontarget_name  ...  \\\n",
       "0        GGG   CTLA4_site9  ...   \n",
       "2        TGG   CTLA4_site9  ...   \n",
       "3        AGG   CTLA4_site9  ...   \n",
       "1        AGG   CTLA4_site9  ...   \n",
       "\n",
       "                        Control_2_pooled_result_name  \\\n",
       "0  CTLA4_site0_425_675_CTLA4_site9_ON_CTLA4_site0...   \n",
       "2  CTLA4_site2_374_614_CTLA4_site9_OB2_CTLA4_site...   \n",
       "3  CTLA4_site3_425_675_CTLA4_site9_OB2_CTLA4_site...   \n",
       "1  CTLA4_site1_358_599_CTLA4_site9_OB2_CTLA4_site...   \n",
       "\n",
       "   Control_2_highest_a_g_pct Control_2_highest_c_t_pct  \\\n",
       "0                        0.0                       0.0   \n",
       "2                        0.0                       0.0   \n",
       "3                        0.0                       0.0   \n",
       "1                        0.0                       0.0   \n",
       "\n",
       "  Control_2_highest_indel_pct  Control_2_tot_reads  \\\n",
       "0                         0.0                117.0   \n",
       "2                         0.0                149.0   \n",
       "3                         0.0                 81.0   \n",
       "1                         0.0                 34.0   \n",
       "\n",
       "                        Control_3_pooled_result_name  \\\n",
       "0  CTLA4_site0_425_675_CTLA4_site9_ON_CTLA4_site0...   \n",
       "2  CTLA4_site2_374_614_CTLA4_site9_OB2_CTLA4_site...   \n",
       "3  CTLA4_site3_425_675_CTLA4_site9_OB2_CTLA4_site...   \n",
       "1  CTLA4_site1_358_599_CTLA4_site9_OB2_CTLA4_site...   \n",
       "\n",
       "   Control_3_highest_a_g_pct  Control_3_highest_c_t_pct  \\\n",
       "0                   0.000000                   0.833333   \n",
       "2                   0.000000                   0.000000   \n",
       "3                   1.098901                   0.000000   \n",
       "1                   0.000000                   0.000000   \n",
       "\n",
       "   Control_3_highest_indel_pct  Control_3_tot_reads  \n",
       "0                          0.0                120.0  \n",
       "2                          0.0                145.0  \n",
       "3                          0.0                 91.0  \n",
       "1                          0.0                 32.0  \n",
       "\n",
       "[4 rows x 45 columns]"
      ]
     },
     "execution_count": 7,
     "metadata": {},
     "output_type": "execute_result"
    }
   ],
   "source": [
    "# Now, set custom names the sites\n",
    "agg_stats['target_name'] = ['chr2:203MB ON', 'chr5:101MB OB2', 'chr9:121MB OB2', 'chr9:135MB OB2']\n",
    "agg_stats"
   ]
  },
  {
   "cell_type": "code",
   "execution_count": 8,
   "id": "ec91c40f",
   "metadata": {},
   "outputs": [],
   "source": [
    "# Write the new stats file for processing\n",
    "agg_stats.to_csv(\"04_replot.ipynb.agg_stats.txt\", sep=\"\\t\", index=False)"
   ]
  },
  {
   "cell_type": "code",
   "execution_count": null,
   "id": "17cdf121",
   "metadata": {},
   "outputs": [
    {
     "name": "stdout",
     "output_type": "stream",
     "text": [
      "INFO  @ Mon, 30 Jun 2025 17:30:45 (20.0% done):\n",
      "\t Plotting for 4 targets \n",
      "\n",
      "INFO  @ Mon, 30 Jun 2025 17:30:46 (20.0% done):\n",
      "\t Saved p-values to 04_replot.ipynb.output/CRISPRessoSea_all_highest_a_g_pct.p_values.txt \n",
      "\n",
      "INFO  @ Mon, 30 Jun 2025 17:30:46 (20.0% done):\n",
      "\t Plotted heatmap to 04_replot.ipynb.output/CRISPRessoSea_all_highest_a_g_pct \n",
      "\n",
      "INFO  @ Mon, 30 Jun 2025 17:30:49 (20.0% done):\n",
      "\t Saved p-values to 04_replot.ipynb.output/CRISPRessoSea_all_highest_c_t_pct.p_values.txt \n",
      "\n",
      "INFO  @ Mon, 30 Jun 2025 17:30:49 (20.0% done):\n",
      "\t Plotted heatmap to 04_replot.ipynb.output/CRISPRessoSea_all_highest_c_t_pct \n",
      "\n",
      "INFO  @ Mon, 30 Jun 2025 17:30:50 (20.0% done):\n",
      "\t Saved p-values to 04_replot.ipynb.output/CRISPRessoSea_all_highest_indel_pct.p_values.txt \n",
      "\n",
      "INFO  @ Mon, 30 Jun 2025 17:30:51 (20.0% done):\n",
      "\t Plotted heatmap to 04_replot.ipynb.output/CRISPRessoSea_all_highest_indel_pct \n",
      "\n",
      "INFO  @ Mon, 30 Jun 2025 17:30:52 (20.0% done):\n",
      "\t Saved p-values to 04_replot.ipynb.output/CRISPRessoSea_all_tot_reads.p_values.txt \n",
      "\n",
      "INFO  @ Mon, 30 Jun 2025 17:30:53 (20.0% done):\n",
      "\t Plotted heatmap to 04_replot.ipynb.output/CRISPRessoSea_all_tot_reads \n",
      "\n",
      "INFO  @ Mon, 30 Jun 2025 17:30:54 (20.0% done):\n",
      "\t Plotted heatmap to 04_replot.ipynb.output/CRISPRessoSea_Control_highest_a_g_pct \n",
      "\n",
      "INFO  @ Mon, 30 Jun 2025 17:30:56 (20.0% done):\n",
      "\t Plotted heatmap to 04_replot.ipynb.output/CRISPRessoSea_Control_highest_c_t_pct \n",
      "\n",
      "INFO  @ Mon, 30 Jun 2025 17:30:57 (20.0% done):\n",
      "\t Plotted heatmap to 04_replot.ipynb.output/CRISPRessoSea_Control_highest_indel_pct \n",
      "\n",
      "INFO  @ Mon, 30 Jun 2025 17:30:58 (20.0% done):\n",
      "\t Plotted heatmap to 04_replot.ipynb.output/CRISPRessoSea_Control_tot_reads \n",
      "\n",
      "INFO  @ Mon, 30 Jun 2025 17:31:00 (20.0% done):\n",
      "\t Plotted heatmap to 04_replot.ipynb.output/CRISPRessoSea_Treated_highest_a_g_pct \n",
      "\n",
      "INFO  @ Mon, 30 Jun 2025 17:31:01 (20.0% done):\n",
      "\t Plotted heatmap to 04_replot.ipynb.output/CRISPRessoSea_Treated_highest_c_t_pct \n",
      "\n",
      "INFO  @ Mon, 30 Jun 2025 17:31:02 (20.0% done):\n",
      "\t Plotted heatmap to 04_replot.ipynb.output/CRISPRessoSea_Treated_highest_indel_pct \n",
      "\n",
      "INFO  @ Mon, 30 Jun 2025 17:31:04 (20.0% done):\n",
      "\t Plotted heatmap to 04_replot.ipynb.output/CRISPRessoSea_Treated_tot_reads \n",
      "\n",
      "INFO  @ Mon, 30 Jun 2025 17:31:05 (100.0% done):\n",
      "\t Replotting complete \n",
      "\n",
      "INFO  @ Mon, 30 Jun 2025 17:31:05 (100.0% done):\n",
      "\t CRISPRessoSea completed successfully \n",
      "\n"
     ]
    }
   ],
   "source": [
    "# Call Replot and add statistical tests\n",
    "!CRISPRessoSea Replot -o 04_replot.ipynb.output --reordered_stats_file 04_replot.ipynb.agg_stats.txt --reordered_sample_file 04_replot.ipynb.samples.txt --sig_method_parameters t_test,Control,Treated,0.05 "
   ]
  },
  {
   "cell_type": "code",
   "execution_count": 10,
   "id": "f68a6578",
   "metadata": {},
   "outputs": [
    {
     "data": {
      "application/vnd.microsoft.datawrangler.viewer.v0+json": {
       "columns": [
        {
         "name": "index",
         "rawType": "int64",
         "type": "integer"
        },
        {
         "name": "target_name",
         "rawType": "object",
         "type": "string"
        },
        {
         "name": "Control_mean",
         "rawType": "float64",
         "type": "float"
        },
        {
         "name": "Treated_mean",
         "rawType": "float64",
         "type": "float"
        },
        {
         "name": "t_stat",
         "rawType": "float64",
         "type": "float"
        },
        {
         "name": "p_val",
         "rawType": "float64",
         "type": "float"
        },
        {
         "name": "test",
         "rawType": "object",
         "type": "string"
        },
        {
         "name": "bh_adj_p_val",
         "rawType": "float64",
         "type": "float"
        },
        {
         "name": "significant",
         "rawType": "bool",
         "type": "boolean"
        },
        {
         "name": "Treated_1",
         "rawType": "float64",
         "type": "float"
        },
        {
         "name": "Treated_2",
         "rawType": "float64",
         "type": "float"
        },
        {
         "name": "Treated_3",
         "rawType": "float64",
         "type": "float"
        },
        {
         "name": "Control_1",
         "rawType": "float64",
         "type": "float"
        },
        {
         "name": "Control_2",
         "rawType": "float64",
         "type": "float"
        },
        {
         "name": "Control_3",
         "rawType": "float64",
         "type": "float"
        }
       ],
       "ref": "c54efdf6-8aee-44be-81c3-2d263a37c432",
       "rows": [
        [
         "0",
         "chr2:203MB ON",
         "0.0",
         "71.86250624687658",
         "-17.980458310150876",
         "0.0030788546068507",
         "Welch T-test",
         "0.0123154184274031",
         "True",
         "65.625",
         "79.3103448275862",
         "70.65217391304348",
         "0.0",
         "0.0",
         "0.0"
        ],
        [
         "1",
         "chr5:101MB OB2",
         "0.0",
         "17.634946358350614",
         "-12.01990935236611",
         "0.006850417594008",
         "Welch T-test",
         "0.0137008351880161",
         "True",
         "14.864864864864863",
         "18.181818181818183",
         "19.8581560283688",
         "0.0",
         "0.0",
         "0.0"
        ],
        [
         "2",
         "chr9:121MB OB2",
         "0.0",
         "1.6116883116883116",
         "-4.060364500681097",
         "0.0556413313779909",
         "Welch T-test",
         "0.0741884418373211",
         "False",
         "1.2987012987012987",
         "1.1363636363636365",
         "2.4",
         "0.0",
         "0.0",
         "0.0"
        ],
        [
         "3",
         "chr9:135MB OB2",
         "0.0",
         "0.7936507936507936",
         "-1.0",
         "0.4226497308103742",
         "Welch T-test",
         "0.4226497308103742",
         "False",
         "0.0",
         "0.0",
         "2.380952380952381",
         "0.0",
         "0.0",
         "0.0"
        ]
       ],
       "shape": {
        "columns": 14,
        "rows": 4
       }
      },
      "text/html": [
       "<div>\n",
       "<style scoped>\n",
       "    .dataframe tbody tr th:only-of-type {\n",
       "        vertical-align: middle;\n",
       "    }\n",
       "\n",
       "    .dataframe tbody tr th {\n",
       "        vertical-align: top;\n",
       "    }\n",
       "\n",
       "    .dataframe thead th {\n",
       "        text-align: right;\n",
       "    }\n",
       "</style>\n",
       "<table border=\"1\" class=\"dataframe\">\n",
       "  <thead>\n",
       "    <tr style=\"text-align: right;\">\n",
       "      <th></th>\n",
       "      <th>target_name</th>\n",
       "      <th>Control_mean</th>\n",
       "      <th>Treated_mean</th>\n",
       "      <th>t_stat</th>\n",
       "      <th>p_val</th>\n",
       "      <th>test</th>\n",
       "      <th>bh_adj_p_val</th>\n",
       "      <th>significant</th>\n",
       "      <th>Treated_1</th>\n",
       "      <th>Treated_2</th>\n",
       "      <th>Treated_3</th>\n",
       "      <th>Control_1</th>\n",
       "      <th>Control_2</th>\n",
       "      <th>Control_3</th>\n",
       "    </tr>\n",
       "  </thead>\n",
       "  <tbody>\n",
       "    <tr>\n",
       "      <th>0</th>\n",
       "      <td>chr2:203MB ON</td>\n",
       "      <td>0.0</td>\n",
       "      <td>71.862506</td>\n",
       "      <td>-17.980458</td>\n",
       "      <td>0.003079</td>\n",
       "      <td>Welch T-test</td>\n",
       "      <td>0.012315</td>\n",
       "      <td>True</td>\n",
       "      <td>65.625000</td>\n",
       "      <td>79.310345</td>\n",
       "      <td>70.652174</td>\n",
       "      <td>0.0</td>\n",
       "      <td>0.0</td>\n",
       "      <td>0.0</td>\n",
       "    </tr>\n",
       "    <tr>\n",
       "      <th>1</th>\n",
       "      <td>chr5:101MB OB2</td>\n",
       "      <td>0.0</td>\n",
       "      <td>17.634946</td>\n",
       "      <td>-12.019909</td>\n",
       "      <td>0.006850</td>\n",
       "      <td>Welch T-test</td>\n",
       "      <td>0.013701</td>\n",
       "      <td>True</td>\n",
       "      <td>14.864865</td>\n",
       "      <td>18.181818</td>\n",
       "      <td>19.858156</td>\n",
       "      <td>0.0</td>\n",
       "      <td>0.0</td>\n",
       "      <td>0.0</td>\n",
       "    </tr>\n",
       "    <tr>\n",
       "      <th>2</th>\n",
       "      <td>chr9:121MB OB2</td>\n",
       "      <td>0.0</td>\n",
       "      <td>1.611688</td>\n",
       "      <td>-4.060365</td>\n",
       "      <td>0.055641</td>\n",
       "      <td>Welch T-test</td>\n",
       "      <td>0.074188</td>\n",
       "      <td>False</td>\n",
       "      <td>1.298701</td>\n",
       "      <td>1.136364</td>\n",
       "      <td>2.400000</td>\n",
       "      <td>0.0</td>\n",
       "      <td>0.0</td>\n",
       "      <td>0.0</td>\n",
       "    </tr>\n",
       "    <tr>\n",
       "      <th>3</th>\n",
       "      <td>chr9:135MB OB2</td>\n",
       "      <td>0.0</td>\n",
       "      <td>0.793651</td>\n",
       "      <td>-1.000000</td>\n",
       "      <td>0.422650</td>\n",
       "      <td>Welch T-test</td>\n",
       "      <td>0.422650</td>\n",
       "      <td>False</td>\n",
       "      <td>0.000000</td>\n",
       "      <td>0.000000</td>\n",
       "      <td>2.380952</td>\n",
       "      <td>0.0</td>\n",
       "      <td>0.0</td>\n",
       "      <td>0.0</td>\n",
       "    </tr>\n",
       "  </tbody>\n",
       "</table>\n",
       "</div>"
      ],
      "text/plain": [
       "      target_name  Control_mean  Treated_mean     t_stat     p_val  \\\n",
       "0   chr2:203MB ON           0.0     71.862506 -17.980458  0.003079   \n",
       "1  chr5:101MB OB2           0.0     17.634946 -12.019909  0.006850   \n",
       "2  chr9:121MB OB2           0.0      1.611688  -4.060365  0.055641   \n",
       "3  chr9:135MB OB2           0.0      0.793651  -1.000000  0.422650   \n",
       "\n",
       "           test  bh_adj_p_val  significant  Treated_1  Treated_2  Treated_3  \\\n",
       "0  Welch T-test      0.012315         True  65.625000  79.310345  70.652174   \n",
       "1  Welch T-test      0.013701         True  14.864865  18.181818  19.858156   \n",
       "2  Welch T-test      0.074188        False   1.298701   1.136364   2.400000   \n",
       "3  Welch T-test      0.422650        False   0.000000   0.000000   2.380952   \n",
       "\n",
       "   Control_1  Control_2  Control_3  \n",
       "0        0.0        0.0        0.0  \n",
       "1        0.0        0.0        0.0  \n",
       "2        0.0        0.0        0.0  \n",
       "3        0.0        0.0        0.0  "
      ]
     },
     "execution_count": 10,
     "metadata": {},
     "output_type": "execute_result"
    }
   ],
   "source": [
    "# We can see the p-values in the output tables\n",
    "p_vals = pd.read_csv('04_replot.ipynb.output/CRISPRessoSea_all_highest_indel_pct.p_values.txt',sep=\"\\t\")\n",
    "p_vals"
   ]
  },
  {
   "cell_type": "code",
   "execution_count": null,
   "id": "95472883",
   "metadata": {},
   "outputs": [],
   "source": []
  }
 ],
 "metadata": {
  "kernelspec": {
   "display_name": "kc_crispresso",
   "language": "python",
   "name": "python3"
  },
  "language_info": {
   "codemirror_mode": {
    "name": "ipython",
    "version": 3
   },
   "file_extension": ".py",
   "mimetype": "text/x-python",
   "name": "python",
   "nbconvert_exporter": "python",
   "pygments_lexer": "ipython3",
   "version": "3.10.11"
  }
 },
 "nbformat": 4,
 "nbformat_minor": 5
}
