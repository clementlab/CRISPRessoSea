{
 "cells": [
  {
   "cell_type": "code",
   "execution_count": 1,
   "id": "e6d78f67",
   "metadata": {},
   "outputs": [],
   "source": [
    "import os"
   ]
  },
  {
   "cell_type": "code",
   "execution_count": 2,
   "id": "2dccbd49",
   "metadata": {},
   "outputs": [],
   "source": [
    "!mkdir -p CRISPRessoSea_demo"
   ]
  },
  {
   "cell_type": "code",
   "execution_count": 3,
   "id": "10d374f5",
   "metadata": {},
   "outputs": [],
   "source": [
    "#link in the guide file in case people don't want to run casoffinder\n",
    "# ln -s CRISPRessoSea_MakeGuideFileOutput/CRISPRessoSea.guide_info.txt guides.demo.txt\n",
    "if not os.path.exists ('guides.demo.txt'):\n",
    "    os.symlink('CRISPRessoSea_MakeGuideFileOutput/CRISPRessoSea.guide_info.txt', 'guides.demo.txt')"
   ]
  },
  {
   "cell_type": "code",
   "execution_count": 4,
   "id": "ab47ca6c",
   "metadata": {},
   "outputs": [
    {
     "name": "stdout",
     "output_type": "stream",
     "text": [
      "cp: not writing through dangling symlink 'CRISPRessoSea_demo/guides.demo.txt'\n"
     ]
    }
   ],
   "source": [
    "!cp demo_genome* CRISPRessoSea_demo/\n",
    "!cp Treated*.gz CRISPRessoSea_demo/\n",
    "!cp Control*.gz CRISPRessoSea_demo/\n",
    "!cp samples.demo.txt CRISPRessoSea_demo/\n",
    "!cp guides.demo.txt CRISPRessoSea_demo/\n",
    "!cp 04_replot.ipynb.agg_stats.txt CRISPRessoSea_demo/replot_agg_stats.txt\n",
    "!cp 04_replot.ipynb.samples.txt CRISPRessoSea_demo/replot_samples.txt\n"
   ]
  },
  {
   "cell_type": "code",
   "execution_count": 5,
   "id": "c60b7527",
   "metadata": {},
   "outputs": [],
   "source": [
    "# create a zip of the data files\n",
    "! tar -czf small_demo.tar.gz CRISPRessoSea_demo"
   ]
  },
  {
   "cell_type": "code",
   "execution_count": 6,
   "id": "f08a5178",
   "metadata": {},
   "outputs": [
    {
     "name": "stdout",
     "output_type": "stream",
     "text": [
      "-rw-rw-r-- 1 u0351481 clementm 247K Jul  1 14:35 small_demo.tar.gz\n"
     ]
    }
   ],
   "source": [
    "!ls -alh small_demo.tar.gz"
   ]
  },
  {
   "cell_type": "code",
   "execution_count": 7,
   "id": "b92c5de0",
   "metadata": {},
   "outputs": [
    {
     "name": "stdout",
     "output_type": "stream",
     "text": [
      "CRISPRessoSea_demo/\n",
      "CRISPRessoSea_demo/guides.demo.txt\n",
      "CRISPRessoSea_demo/demo_genome.1.bt2\n",
      "CRISPRessoSea_demo/demo_genome.2.bt2\n",
      "CRISPRessoSea_demo/demo_genome.3.bt2\n",
      "CRISPRessoSea_demo/demo_genome.4.bt2\n",
      "CRISPRessoSea_demo/demo_genome.fa\n",
      "CRISPRessoSea_demo/demo_genome.fa.fai\n",
      "CRISPRessoSea_demo/demo_genome.rev.1.bt2\n",
      "CRISPRessoSea_demo/demo_genome.rev.2.bt2\n",
      "CRISPRessoSea_demo/Treated_1.fastq.gz\n",
      "CRISPRessoSea_demo/Treated_2.fastq.gz\n",
      "CRISPRessoSea_demo/Treated_3.fastq.gz\n",
      "CRISPRessoSea_demo/Control_1.fastq.gz\n",
      "CRISPRessoSea_demo/Control_2.fastq.gz\n",
      "CRISPRessoSea_demo/Control_3.fastq.gz\n",
      "CRISPRessoSea_demo/samples.demo.txt\n",
      "CRISPRessoSea_demo/replot_agg_stats.txt\n",
      "CRISPRessoSea_demo/replot_samples.txt\n"
     ]
    }
   ],
   "source": [
    "#list contents of small_demo.tar.gz\n",
    "! tar -tzf small_demo.tar.gz"
   ]
  },
  {
   "cell_type": "code",
   "execution_count": null,
   "id": "c3af6f1f",
   "metadata": {},
   "outputs": [],
   "source": []
  }
 ],
 "metadata": {
  "kernelspec": {
   "display_name": "kc_crispresso",
   "language": "python",
   "name": "python3"
  },
  "language_info": {
   "codemirror_mode": {
    "name": "ipython",
    "version": 3
   },
   "file_extension": ".py",
   "mimetype": "text/x-python",
   "name": "python",
   "nbconvert_exporter": "python",
   "pygments_lexer": "ipython3",
   "version": "3.10.11"
  }
 },
 "nbformat": 4,
 "nbformat_minor": 5
}
