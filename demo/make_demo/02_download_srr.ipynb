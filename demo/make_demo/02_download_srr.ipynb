{
 "cells": [
  {
   "cell_type": "code",
   "execution_count": 1,
   "id": "0ffc7cef",
   "metadata": {},
   "outputs": [],
   "source": [
    "import subprocess\n",
    "import os"
   ]
  },
  {
   "cell_type": "code",
   "execution_count": 2,
   "id": "9fb20b45",
   "metadata": {},
   "outputs": [
    {
     "name": "stdout",
     "output_type": "stream",
     "text": [
      "SRR11612417 already exists, skipping download.\n"
     ]
    },
    {
     "name": "stdout",
     "output_type": "stream",
     "text": [
      "SRR11612416 already exists, skipping download.\n",
      "SRR11612415 already exists, skipping download.\n",
      "SRR11612420 already exists, skipping download.\n",
      "SRR11612419 already exists, skipping download.\n",
      "SRR11612418 already exists, skipping download.\n"
     ]
    }
   ],
   "source": [
    "sample_names = {}\n",
    "with open('SRP258158.metadata.txt', 'r') as f, open('02_download_srr.ipynb.samples.txt', 'w') as fout, open('02_download_srr.ipynb.samples.small.txt', 'w') as fout_small:\n",
    "    fout.write('Name\\tR1\\tR2\\n')\n",
    "    fout_small.write('Name\\tR1\\tR2\\n')\n",
    "    first_line = f.readline()\n",
    "    for line in f:\n",
    "        line_els = line.strip().split('\\t')\n",
    "        srr = line_els[0]\n",
    "        sample = line_els[-1]\n",
    "        sample_counter = 1\n",
    "        if 'control' in sample.lower():\n",
    "            sample_name = f'Control_{sample_counter}'\n",
    "            while sample_name in sample_names:\n",
    "                sample_counter += 1\n",
    "                sample_name = f'Control_{sample_counter}'\n",
    "            sample_names[sample_name] = srr\n",
    "        else:\n",
    "            sample_name = f'Treated_{sample_counter}'\n",
    "            while sample_name in sample_names:\n",
    "                sample_counter += 1\n",
    "                sample_name = f'Treated_{sample_counter}'\n",
    "            sample_names[sample_name] = srr\n",
    "\n",
    "        if not os.path.exists(f'{srr}_1.fastq.gz'):\n",
    "            print(f'Downloading {srr}...')\n",
    "\n",
    "            subprocess.check_output(\n",
    "                'conda run  --no-capture-output -n kc_sratools fastq-dump --gzip --split-3 ' + srr,\n",
    "                stderr=subprocess.DEVNULL, shell=True\n",
    "            )\n",
    "        else:\n",
    "            print(f'{srr} already exists, skipping download.')\n",
    "\n",
    "        for read_num in [\"1\",\"2\"]:\n",
    "            subprocess.check_output(\n",
    "                f'rm -f {srr}_{read_num}.head.fastq.gz',\n",
    "                stderr=subprocess.DEVNULL, shell=True\n",
    "            )\n",
    "            subprocess.check_output(\n",
    "                f'gunzip -c {srr}_{read_num}.fastq.gz | head -n 75000 > {srr}_{read_num}.head.fastq',\n",
    "                stderr=subprocess.DEVNULL, shell=True\n",
    "            )\n",
    "            subprocess.check_output(\n",
    "                f'gzip {srr}_{read_num}.head.fastq',\n",
    "                stderr=subprocess.DEVNULL, shell=True\n",
    "            )\n",
    "        fout.write(f'{sample_name}\\t{srr}_1.fastq.gz\\t{srr}_2.fastq.gz\\n')\n",
    "        fout_small.write(f'{sample_name}\\t{srr}_1.head.fastq.gz\\t{srr}_2.head.fastq.gz\\n')"
   ]
  },
  {
   "cell_type": "code",
   "execution_count": 3,
   "id": "c4f820d6",
   "metadata": {},
   "outputs": [],
   "source": [
    "if not os.path.exists('samples.small.txt'):\n",
    "    os.symlink('02_download_srr.ipynb.samples.small.txt', 'samples.small.txt')"
   ]
  },
  {
   "cell_type": "code",
   "execution_count": null,
   "id": "80862984",
   "metadata": {},
   "outputs": [],
   "source": []
  }
 ],
 "metadata": {
  "kernelspec": {
   "display_name": "kc_crisprlungo",
   "language": "python",
   "name": "python3"
  },
  "language_info": {
   "codemirror_mode": {
    "name": "ipython",
    "version": 3
   },
   "file_extension": ".py",
   "mimetype": "text/x-python",
   "name": "python",
   "nbconvert_exporter": "python",
   "pygments_lexer": "ipython3",
   "version": "3.10.11"
  }
 },
 "nbformat": 4,
 "nbformat_minor": 5
}
